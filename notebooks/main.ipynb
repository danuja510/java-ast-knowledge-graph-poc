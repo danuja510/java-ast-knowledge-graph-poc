{
 "cells": [
  {
   "cell_type": "code",
   "execution_count": 1,
   "id": "8e737964",
   "metadata": {},
   "outputs": [],
   "source": [
    "from tree_sitter import Parser, Language\n",
    "import tree_sitter_java as tsj\n",
    "from neo4j import GraphDatabase\n",
    "\n",
    "class Neo4jConnection:\n",
    "    def __init__(self, uri, user, password):\n",
    "        self.driver = GraphDatabase.driver(uri, auth=(user, password))\n",
    "\n",
    "    def close(self):\n",
    "        self.driver.close()"
   ]
  },
  {
   "cell_type": "code",
   "execution_count": 2,
   "id": "f0628b84",
   "metadata": {},
   "outputs": [
    {
     "data": {
      "text/plain": [
       "<tree_sitter.Parser at 0x114024ae0>"
      ]
     },
     "execution_count": 2,
     "metadata": {},
     "output_type": "execute_result"
    }
   ],
   "source": [
    "language = Language(tsj.language())\n",
    "parser = Parser(language=language)\n",
    "parser"
   ]
  },
  {
   "cell_type": "code",
   "execution_count": 57,
   "id": "4315ff38",
   "metadata": {},
   "outputs": [
    {
     "data": {
      "text/plain": [
       "'package com.java_ast_knowledge_graph_poc.employee_crud.controller;\\n\\nimport java.util.List;\\n\\nimport org.springframework.beans.factory.annotation.Autowired;\\nimport org.springframework.http.HttpStatus;\\nimport org.springframework.http.ResponseEntity;\\nimport org.springframework.web.bind.annotation.DeleteMapping;\\nimport org.springframework.web.bind.annotation.GetMapping;\\nimport org.springframework.web.bind.annotation.PathVariable;\\nimport org.springframework.web.bind.annotation.PostMapping;\\nimport org.springframework.web.bind.annotation.PutMapping;\\nimport org.springframework.web.bind.annotation.RequestBody;\\nimport org.springframework.web.bind.annotation.RequestMapping;\\nimport org.springframework.web.bind.annotation.RestController;\\n\\nimport com.java_ast_knowledge_graph_poc.employee_crud.dto.EmployeeDTO;\\nimport com.java_ast_knowledge_graph_poc.employee_crud.service.EmployeeService;\\n\\n@RestController\\n@RequestMapping(\"/api/employees\")\\npublic class EmployeeController {\\n\\n    private final EmployeeService employeeService;\\n\\n    @Autowired\\n    public EmployeeController(EmployeeService employeeService) {\\n        this.employeeService = employeeService;\\n    }\\n\\n    @PostMapping\\n    public ResponseEntity<EmployeeDTO> createEmployee(@RequestBody EmployeeDTO employeeDTO) {\\n        EmployeeDTO savedEmployee = employeeService.saveEmployee(employeeDTO);\\n        return new ResponseEntity<>(savedEmployee, HttpStatus.CREATED);\\n    }\\n\\n    @GetMapping(\"/{id}\")\\n    public ResponseEntity<EmployeeDTO> getEmployeeById(@PathVariable Long id) {\\n        EmployeeDTO employee = employeeService.getEmployeeById(id);\\n        return ResponseEntity.ok(employee);\\n    }\\n\\n    @GetMapping\\n    public ResponseEntity<List<EmployeeDTO>> getAllEmployees() {\\n        List<EmployeeDTO> employees = employeeService.getAllEmployees();\\n        return ResponseEntity.ok(employees);\\n    }\\n\\n    @PutMapping(\"/{id}\")\\n    public ResponseEntity<EmployeeDTO> updateEmployee(@PathVariable Long id, @RequestBody EmployeeDTO employeeDTO) {\\n        employeeDTO.setId(id);\\n        EmployeeDTO updatedEmployee = employeeService.updateEmployee(employeeDTO);\\n        return ResponseEntity.ok(updatedEmployee);\\n    }\\n\\n    @DeleteMapping(\"/{id}\")\\n    public ResponseEntity<Void> deleteEmployee(@PathVariable Long id) {\\n        employeeService.deleteEmployee(id);\\n        return ResponseEntity.noContent().build();\\n    }\\n}\\n'"
      ]
     },
     "execution_count": 57,
     "metadata": {},
     "output_type": "execute_result"
    }
   ],
   "source": [
    "with open(\"../data/java/employee-crud/src/main/java/com/java_ast_knowledge_graph_poc/employee_crud/controller/EmployeeController.java\", \"r\", encoding=\"utf-8\") as file:\n",
    "    source_code = file.read()\n",
    "\n",
    "source_code"
   ]
  },
  {
   "cell_type": "code",
   "execution_count": 58,
   "id": "8d3960d7",
   "metadata": {},
   "outputs": [],
   "source": [
    "tree = parser.parse(bytes(source_code, \"utf8\"))\n",
    "root_node = tree.root_node"
   ]
  },
  {
   "cell_type": "code",
   "execution_count": 59,
   "id": "5c03b1c9",
   "metadata": {},
   "outputs": [],
   "source": [
    "graphDBConn = Neo4jConnection(uri=\"neo4j://localhost:7687\", user=\"neo4j\", password=\"password\")"
   ]
  },
  {
   "cell_type": "code",
   "execution_count": null,
   "id": "90ab1853",
   "metadata": {},
   "outputs": [
    {
     "data": {
      "text/plain": [
       "EagerResult(records=[<Record p=<Path start=<Node element_id='4:006ce47f-db97-446a-8d48-00e2d825b218:1' labels=frozenset({'Method'}) properties={'name': 'main', 'content': 'System.out.println(\"Hello World\");\\n'}> end=<Node element_id='4:006ce47f-db97-446a-8d48-00e2d825b218:0' labels=frozenset({'Class'}) properties={'name': 'HellowWorld.java'}> size=1>>], summary=<neo4j._work.summary.ResultSummary object at 0x11491e0d0>, keys=['p'])"
      ]
     },
     "execution_count": 10,
     "metadata": {},
     "output_type": "execute_result"
    }
   ],
   "source": [
    "graphDBConn.driver.execute_query(\"MATCH p=()-[]->() RETURN p\")"
   ]
  },
  {
   "cell_type": "code",
   "execution_count": 60,
   "id": "e91943e2",
   "metadata": {},
   "outputs": [],
   "source": [
    "children_nodes = root_node.children\n",
    "class_declration_node = children_nodes[-1]\n",
    "package_declaration_node = children_nodes[0]"
   ]
  },
  {
   "cell_type": "markdown",
   "id": "6d566d11",
   "metadata": {},
   "source": [
    "create package node"
   ]
  },
  {
   "cell_type": "code",
   "execution_count": 62,
   "id": "72a96388",
   "metadata": {},
   "outputs": [
    {
     "name": "stdout",
     "output_type": "stream",
     "text": [
      "name: com.java_ast_knowledge_graph_poc.employee_crud.controller\n",
      "content: package com.java_ast_knowledge_graph_poc.employee_crud.controller;\n"
     ]
    },
    {
     "data": {
      "text/plain": [
       "EagerResult(records=[<Record p=<Node element_id='4:006ce47f-db97-446a-8d48-00e2d825b218:2' labels=frozenset({'Package'}) properties={'name': 'com.java_ast_knowledge_graph_poc.employee_crud.controller', 'content': 'package com.java_ast_knowledge_graph_poc.employee_crud.controller;'}>>], summary=<neo4j._work.summary.ResultSummary object at 0x1140395b0>, keys=['p'])"
      ]
     },
     "execution_count": 62,
     "metadata": {},
     "output_type": "execute_result"
    }
   ],
   "source": [
    "print(f\"name: {package_declaration_node.children[1].text.decode('utf-8')}\")\n",
    "print(f\"content: {package_declaration_node.text.decode('utf-8')}\")\n",
    "\n",
    "package_node = graphDBConn.driver.execute_query(\n",
    "    \"CREATE (p:Package {name: $name, content: $content}) RETURN p\",\n",
    "    name=package_declaration_node.children[1].text.decode('utf-8'),\n",
    "    content=package_declaration_node.text.decode('utf-8')\n",
    ")\n",
    "\n",
    "package_node"
   ]
  },
  {
   "cell_type": "code",
   "execution_count": null,
   "id": "d9a9a221",
   "metadata": {},
   "outputs": [
    {
     "data": {
      "text/plain": [
       "<Node element_id='4:006ce47f-db97-446a-8d48-00e2d825b218:2' labels=frozenset({'Package'}) properties={'name': 'com.java_ast_knowledge_graph_poc.employee_crud.controller', 'content': 'package com.java_ast_knowledge_graph_poc.employee_crud.controller;'}>"
      ]
     },
     "execution_count": 66,
     "metadata": {},
     "output_type": "execute_result"
    }
   ],
   "source": [
    "package_node.records[0].get(\"p\")"
   ]
  },
  {
   "cell_type": "markdown",
   "id": "4d39ff36",
   "metadata": {},
   "source": [
    "create class node"
   ]
  },
  {
   "cell_type": "code",
   "execution_count": 106,
   "id": "d159db77",
   "metadata": {},
   "outputs": [
    {
     "data": {
      "text/plain": [
       "<Node element_id='4:006ce47f-db97-446a-8d48-00e2d825b218:0' labels=frozenset({'Class'}) properties={'name': 'EmployeeController', 'content': '@RestController\\n@RequestMapping(\"/api/employees\")\\npublic class EmployeeController', 'rest_path': '/api/employees'}>"
      ]
     },
     "execution_count": 106,
     "metadata": {},
     "output_type": "execute_result"
    }
   ],
   "source": [
    "rest_path = class_declration_node.children[0].children[1].children[-1].children[1].children[1].text.decode('utf-8')\n",
    "class_name =class_declration_node.children[-2].text.decode('utf-8')\n",
    "content = \" \".join(list(map(lambda x: x.text.decode('utf-8'), class_declration_node.children[:-1])))\n",
    "# Get the package node ID from the previous query\n",
    "package_id = package_node.records[0].get(\"p\").element_id\n",
    "\n",
    "# Create class and relationship in one query\n",
    "class_node = graphDBConn.driver.execute_query(\n",
    "    \"\"\"\n",
    "    MATCH (pkg:Package) WHERE elementId(pkg) = $package_id\n",
    "    CREATE (c:Class {name: $name, rest_path: $rest_path, content: $content})\n",
    "    CREATE (c)-[:BELONGS_TO]->(pkg)\n",
    "    RETURN c\n",
    "    \"\"\",\n",
    "    package_id=package_id,\n",
    "    name=class_name,\n",
    "    rest_path=rest_path,\n",
    "    content=content\n",
    ")\n",
    "\n",
    "class_node.records[0].get(\"c\")"
   ]
  },
  {
   "cell_type": "code",
   "execution_count": null,
   "id": "6b40f314",
   "metadata": {},
   "outputs": [],
   "source": []
  }
 ],
 "metadata": {
  "kernelspec": {
   "display_name": "Python 3",
   "language": "python",
   "name": "python3"
  },
  "language_info": {
   "codemirror_mode": {
    "name": "ipython",
    "version": 3
   },
   "file_extension": ".py",
   "mimetype": "text/x-python",
   "name": "python",
   "nbconvert_exporter": "python",
   "pygments_lexer": "ipython3",
   "version": "3.13.5"
  }
 },
 "nbformat": 4,
 "nbformat_minor": 5
}

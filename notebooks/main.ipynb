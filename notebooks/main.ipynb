{
 "cells": [
  {
   "cell_type": "code",
   "execution_count": 5,
   "id": "8e737964",
   "metadata": {},
   "outputs": [],
   "source": [
    "from tree_sitter import Parser, Language\n",
    "import tree_sitter_java as tsj\n",
    "from neo4j import GraphDatabase\n",
    "\n",
    "class Neo4jConnection:\n",
    "    def __init__(self, uri, user, password):\n",
    "        self.driver = GraphDatabase.driver(uri, auth=(user, password))\n",
    "\n",
    "    def close(self):\n",
    "        self.driver.close()"
   ]
  },
  {
   "cell_type": "code",
   "execution_count": 6,
   "id": "f0628b84",
   "metadata": {},
   "outputs": [
    {
     "data": {
      "text/plain": [
       "<tree_sitter.Parser at 0x106463ba0>"
      ]
     },
     "execution_count": 6,
     "metadata": {},
     "output_type": "execute_result"
    }
   ],
   "source": [
    "language = Language(tsj.language())\n",
    "parser = Parser(language=language)\n",
    "parser"
   ]
  },
  {
   "cell_type": "code",
   "execution_count": 7,
   "id": "4315ff38",
   "metadata": {},
   "outputs": [
    {
     "data": {
      "text/plain": [
       "'package com.java_ast_knowledge_graph_poc.employee_crud.controller;\\n\\nimport java.util.List;\\n\\nimport org.springframework.beans.factory.annotation.Autowired;\\nimport org.springframework.http.HttpStatus;\\nimport org.springframework.http.ResponseEntity;\\nimport org.springframework.web.bind.annotation.DeleteMapping;\\nimport org.springframework.web.bind.annotation.GetMapping;\\nimport org.springframework.web.bind.annotation.PathVariable;\\nimport org.springframework.web.bind.annotation.PostMapping;\\nimport org.springframework.web.bind.annotation.PutMapping;\\nimport org.springframework.web.bind.annotation.RequestBody;\\nimport org.springframework.web.bind.annotation.RequestMapping;\\nimport org.springframework.web.bind.annotation.RestController;\\n\\nimport com.java_ast_knowledge_graph_poc.employee_crud.dto.EmployeeDTO;\\nimport com.java_ast_knowledge_graph_poc.employee_crud.service.EmployeeService;\\n\\n@RestController\\n@RequestMapping(\"/api/employees\")\\npublic class EmployeeController {\\n\\n    private final EmployeeService employeeService;\\n\\n    @Autowired\\n    public EmployeeController(EmployeeService employeeService) {\\n        this.employeeService = employeeService;\\n    }\\n\\n    @PostMapping\\n    public ResponseEntity<EmployeeDTO> createEmployee(@RequestBody EmployeeDTO employeeDTO) {\\n        EmployeeDTO savedEmployee = employeeService.saveEmployee(employeeDTO);\\n        return new ResponseEntity<>(savedEmployee, HttpStatus.CREATED);\\n    }\\n\\n    @GetMapping(\"/{id}\")\\n    public ResponseEntity<EmployeeDTO> getEmployeeById(@PathVariable Long id) {\\n        EmployeeDTO employee = employeeService.getEmployeeById(id);\\n        return ResponseEntity.ok(employee);\\n    }\\n\\n    @GetMapping\\n    public ResponseEntity<List<EmployeeDTO>> getAllEmployees() {\\n        List<EmployeeDTO> employees = employeeService.getAllEmployees();\\n        return ResponseEntity.ok(employees);\\n    }\\n\\n    @PutMapping(\"/{id}\")\\n    public ResponseEntity<EmployeeDTO> updateEmployee(@PathVariable Long id, @RequestBody EmployeeDTO employeeDTO) {\\n        employeeDTO.setId(id);\\n        EmployeeDTO updatedEmployee = employeeService.updateEmployee(employeeDTO);\\n        return ResponseEntity.ok(updatedEmployee);\\n    }\\n\\n    @DeleteMapping(\"/{id}\")\\n    public ResponseEntity<Void> deleteEmployee(@PathVariable Long id) {\\n        employeeService.deleteEmployee(id);\\n        return ResponseEntity.noContent().build();\\n    }\\n}\\n'"
      ]
     },
     "execution_count": 7,
     "metadata": {},
     "output_type": "execute_result"
    }
   ],
   "source": [
    "with open(\"../data/java/employee-crud/src/main/java/com/java_ast_knowledge_graph_poc/employee_crud/controller/EmployeeController.java\", \"r\", encoding=\"utf-8\") as file:\n",
    "    source_code = file.read()\n",
    "\n",
    "source_code"
   ]
  },
  {
   "cell_type": "code",
   "execution_count": 8,
   "id": "8d3960d7",
   "metadata": {},
   "outputs": [],
   "source": [
    "tree = parser.parse(bytes(source_code, \"utf8\"))\n",
    "root_node = tree.root_node"
   ]
  },
  {
   "cell_type": "code",
   "execution_count": 9,
   "id": "5c03b1c9",
   "metadata": {},
   "outputs": [],
   "source": [
    "graphDBConn = Neo4jConnection(uri=\"neo4j://localhost:7687\", user=\"neo4j\", password=\"password\")"
   ]
  },
  {
   "cell_type": "code",
   "execution_count": 10,
   "id": "e91943e2",
   "metadata": {},
   "outputs": [],
   "source": [
    "children_nodes = root_node.children\n",
    "class_declration_node = children_nodes[-1]\n",
    "package_declaration_node = children_nodes[0]"
   ]
  },
  {
   "cell_type": "markdown",
   "id": "6d566d11",
   "metadata": {},
   "source": [
    "create package node"
   ]
  },
  {
   "cell_type": "code",
   "execution_count": 59,
   "id": "72a96388",
   "metadata": {},
   "outputs": [
    {
     "name": "stdout",
     "output_type": "stream",
     "text": [
      "name: com.java_ast_knowledge_graph_poc.employee_crud.controller\n",
      "content: package com.java_ast_knowledge_graph_poc.employee_crud.controller;\n"
     ]
    },
    {
     "data": {
      "text/plain": [
       "EagerResult(records=[<Record p=<Node element_id='4:006ce47f-db97-446a-8d48-00e2d825b218:9' labels=frozenset({'Package'}) properties={'name': 'com.java_ast_knowledge_graph_poc.employee_crud.controller', 'content': 'package com.java_ast_knowledge_graph_poc.employee_crud.controller;'}>>], summary=<neo4j._work.summary.ResultSummary object at 0x106ec0ef0>, keys=['p'])"
      ]
     },
     "execution_count": 59,
     "metadata": {},
     "output_type": "execute_result"
    }
   ],
   "source": [
    "print(f\"name: {package_declaration_node.children[1].text.decode('utf-8')}\")\n",
    "print(f\"content: {package_declaration_node.text.decode('utf-8')}\")\n",
    "\n",
    "package_node = graphDBConn.driver.execute_query(\n",
    "    \"MERGE (p:Package {name: $name, content: $content}) RETURN p\",\n",
    "    name=package_declaration_node.children[1].text.decode('utf-8'),\n",
    "    content=package_declaration_node.text.decode('utf-8')\n",
    ")\n",
    "\n",
    "package_node"
   ]
  },
  {
   "cell_type": "code",
   "execution_count": 14,
   "id": "d9a9a221",
   "metadata": {},
   "outputs": [
    {
     "data": {
      "text/plain": [
       "<Node element_id='4:006ce47f-db97-446a-8d48-00e2d825b218:0' labels=frozenset({'Package'}) properties={'name': 'com.java_ast_knowledge_graph_poc.employee_crud.controller', 'content': 'package com.java_ast_knowledge_graph_poc.employee_crud.controller;'}>"
      ]
     },
     "execution_count": 14,
     "metadata": {},
     "output_type": "execute_result"
    }
   ],
   "source": [
    "package_node.records[0].get(\"p\")"
   ]
  },
  {
   "cell_type": "markdown",
   "id": "4d39ff36",
   "metadata": {},
   "source": [
    "create class node"
   ]
  },
  {
   "cell_type": "code",
   "execution_count": 60,
   "id": "d159db77",
   "metadata": {},
   "outputs": [
    {
     "data": {
      "text/plain": [
       "<Node element_id='4:006ce47f-db97-446a-8d48-00e2d825b218:10' labels=frozenset({'Class'}) properties={'name': 'EmployeeController', 'content': '@RestController\\n@RequestMapping(\"/api/employees\")\\npublic class EmployeeController', 'rest_path': '/api/employees'}>"
      ]
     },
     "execution_count": 60,
     "metadata": {},
     "output_type": "execute_result"
    }
   ],
   "source": [
    "rest_path = class_declration_node.children[0].children[1].children[-1].children[1].children[1].text.decode('utf-8')\n",
    "class_name =class_declration_node.children[-2].text.decode('utf-8')\n",
    "content = \" \".join(list(map(lambda x: x.text.decode('utf-8'), class_declration_node.children[:-1])))\n",
    "# Get the package node ID from the previous query\n",
    "package_id = package_node.records[0].get(\"p\").element_id\n",
    "\n",
    "# Create class and relationship in one query\n",
    "class_node = graphDBConn.driver.execute_query(\n",
    "    \"\"\"\n",
    "    MATCH (pkg:Package) WHERE elementId(pkg) = $package_id\n",
    "    MERGE (c:Class {name: $name, rest_path: $rest_path, content: $content})\n",
    "    MERGE (c)-[:BELONGS_TO]->(pkg)\n",
    "    RETURN c\n",
    "    \"\"\",\n",
    "    package_id=package_id,\n",
    "    name=class_name,\n",
    "    rest_path=rest_path,\n",
    "    content=content\n",
    ")\n",
    "\n",
    "class_node.records[0].get(\"c\")"
   ]
  },
  {
   "cell_type": "markdown",
   "id": "5b09e2d2",
   "metadata": {},
   "source": [
    "process import declarations"
   ]
  },
  {
   "cell_type": "code",
   "execution_count": 61,
   "id": "6b40f314",
   "metadata": {},
   "outputs": [],
   "source": [
    "import_declaration_nodes = children_nodes[1:-1]"
   ]
  },
  {
   "cell_type": "code",
   "execution_count": 62,
   "id": "bfc3e4e8",
   "metadata": {},
   "outputs": [
    {
     "name": "stdout",
     "output_type": "stream",
     "text": [
      "import_class_name: List\n",
      "import_package_name: java.util\n",
      "import_statement: import java.util.List;\n",
      "import_class_name: Autowired\n",
      "import_package_name: org.springframework.beans.factory.annotation\n",
      "import_statement: import org.springframework.beans.factory.annotation.Autowired;\n",
      "import_class_name: HttpStatus\n",
      "import_package_name: org.springframework.http\n",
      "import_statement: import org.springframework.http.HttpStatus;\n",
      "import_class_name: ResponseEntity\n",
      "import_package_name: org.springframework.http\n",
      "import_statement: import org.springframework.http.ResponseEntity;\n",
      "import_class_name: DeleteMapping\n",
      "import_package_name: org.springframework.web.bind.annotation\n",
      "import_statement: import org.springframework.web.bind.annotation.DeleteMapping;\n",
      "import_class_name: GetMapping\n",
      "import_package_name: org.springframework.web.bind.annotation\n",
      "import_statement: import org.springframework.web.bind.annotation.GetMapping;\n",
      "import_class_name: PathVariable\n",
      "import_package_name: org.springframework.web.bind.annotation\n",
      "import_statement: import org.springframework.web.bind.annotation.PathVariable;\n",
      "import_class_name: PostMapping\n",
      "import_package_name: org.springframework.web.bind.annotation\n",
      "import_statement: import org.springframework.web.bind.annotation.PostMapping;\n",
      "import_class_name: PutMapping\n",
      "import_package_name: org.springframework.web.bind.annotation\n",
      "import_statement: import org.springframework.web.bind.annotation.PutMapping;\n",
      "import_class_name: RequestBody\n",
      "import_package_name: org.springframework.web.bind.annotation\n",
      "import_statement: import org.springframework.web.bind.annotation.RequestBody;\n",
      "import_class_name: RequestMapping\n",
      "import_package_name: org.springframework.web.bind.annotation\n",
      "import_statement: import org.springframework.web.bind.annotation.RequestMapping;\n",
      "import_class_name: RestController\n",
      "import_package_name: org.springframework.web.bind.annotation\n",
      "import_statement: import org.springframework.web.bind.annotation.RestController;\n",
      "import_class_name: EmployeeDTO\n",
      "import_package_name: com.java_ast_knowledge_graph_poc.employee_crud.dto\n",
      "import_statement: import com.java_ast_knowledge_graph_poc.employee_crud.dto.EmployeeDTO;\n",
      "import_class_name: EmployeeService\n",
      "import_package_name: com.java_ast_knowledge_graph_poc.employee_crud.service\n",
      "import_statement: import com.java_ast_knowledge_graph_poc.employee_crud.service.EmployeeService;\n"
     ]
    }
   ],
   "source": [
    "for import_declaration_node in import_declaration_nodes:\n",
    "    import_class_name = import_declaration_node.children[1].children[-1].text.decode('utf-8')\n",
    "    import_package_name = import_declaration_node.children[1].children[0].text.decode('utf-8')\n",
    "    import_statement = import_declaration_node.text.decode('utf-8')\n",
    "    print(f\"import_class_name: {import_class_name}\")\n",
    "    print(f\"import_package_name: {import_package_name}\")\n",
    "    print(f\"import_statement: {import_statement}\")\n",
    "    import_node = graphDBConn.driver.execute_query(\n",
    "        \"\"\"\n",
    "        MATCH (c1:Class {name: $class_name})\n",
    "        MERGE (pkg:Package {name: $import_package_name})\n",
    "        MERGE (c:Class {name: $import_class_name})\n",
    "        MERGE (c)-[:BELONGS_TO]->(pkg)\n",
    "        MERGE (c1)-[:IMPORTS {content: $import_statement}]->(c)\n",
    "        RETURN c\n",
    "        \"\"\",\n",
    "        import_package_name=import_package_name,\n",
    "        import_class_name=import_class_name,\n",
    "        class_name=class_name,\n",
    "        import_statement=import_statement\n",
    "    )\n"
   ]
  },
  {
   "cell_type": "code",
   "execution_count": null,
   "id": "4dbb3fa2",
   "metadata": {},
   "outputs": [],
   "source": []
  }
 ],
 "metadata": {
  "kernelspec": {
   "display_name": "Python 3",
   "language": "python",
   "name": "python3"
  },
  "language_info": {
   "codemirror_mode": {
    "name": "ipython",
    "version": 3
   },
   "file_extension": ".py",
   "mimetype": "text/x-python",
   "name": "python",
   "nbconvert_exporter": "python",
   "pygments_lexer": "ipython3",
   "version": "3.13.5"
  }
 },
 "nbformat": 4,
 "nbformat_minor": 5
}

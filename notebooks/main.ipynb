{
 "cells": [
  {
   "cell_type": "code",
   "execution_count": 114,
   "id": "8e737964",
   "metadata": {},
   "outputs": [],
   "source": [
    "from tree_sitter import Parser, Language\n",
    "import tree_sitter_java as tsj\n",
    "from neo4j import GraphDatabase\n",
    "\n",
    "class Neo4jConnection:\n",
    "    def __init__(self, uri, user, password, database=None):\n",
    "        self.driver = GraphDatabase.driver(uri, auth=(user, password))\n",
    "        self.database = database\n",
    "\n",
    "    def execute_query(self, query, **parameters):\n",
    "        return self.driver.execute_query(query, database_=self.database, **parameters)\n",
    "\n",
    "    def close(self):\n",
    "        self.driver.close()"
   ]
  },
  {
   "cell_type": "code",
   "execution_count": 115,
   "id": "f0628b84",
   "metadata": {},
   "outputs": [
    {
     "data": {
      "text/plain": [
       "<tree_sitter.Parser at 0x106d9fd80>"
      ]
     },
     "execution_count": 115,
     "metadata": {},
     "output_type": "execute_result"
    }
   ],
   "source": [
    "language = Language(tsj.language())\n",
    "parser = Parser(language=language)\n",
    "parser"
   ]
  },
  {
   "cell_type": "code",
   "execution_count": 151,
   "id": "4315ff38",
   "metadata": {},
   "outputs": [
    {
     "data": {
      "text/plain": [
       "'package com.java_ast_knowledge_graph_poc.employee_crud.controller;\\n\\nimport java.util.List;\\n\\nimport org.springframework.beans.factory.annotation.Autowired;\\nimport org.springframework.http.HttpStatus;\\nimport org.springframework.http.ResponseEntity;\\nimport org.springframework.web.bind.annotation.DeleteMapping;\\nimport org.springframework.web.bind.annotation.GetMapping;\\nimport org.springframework.web.bind.annotation.PathVariable;\\nimport org.springframework.web.bind.annotation.PostMapping;\\nimport org.springframework.web.bind.annotation.PutMapping;\\nimport org.springframework.web.bind.annotation.RequestBody;\\nimport org.springframework.web.bind.annotation.RequestMapping;\\nimport org.springframework.web.bind.annotation.RestController;\\n\\nimport com.java_ast_knowledge_graph_poc.employee_crud.dto.EmployeeDTO;\\nimport com.java_ast_knowledge_graph_poc.employee_crud.service.EmployeeService;\\n\\n@RestController\\n@RequestMapping(\"/api/employees\")\\npublic class EmployeeController {\\n\\n    private final EmployeeService employeeService;\\n    private Object object;\\n\\n    @Autowired\\n    public EmployeeController(EmployeeService employeeService) {\\n        this.employeeService = employeeService;\\n    }\\n\\n    @PostMapping\\n    public ResponseEntity<EmployeeDTO> createEmployee(@RequestBody EmployeeDTO employeeDTO) {\\n        EmployeeDTO savedEmployee = employeeService.saveEmployee(employeeDTO);\\n        return new ResponseEntity<>(savedEmployee, HttpStatus.CREATED);\\n    }\\n\\n    @GetMapping(\"/{id}\")\\n    public ResponseEntity<EmployeeDTO> getEmployeeById(@PathVariable Long id) {\\n        EmployeeDTO employee = employeeService.getEmployeeById(id);\\n        return sendOk(employee);\\n    }\\n\\n    @GetMapping\\n    public ResponseEntity<List<EmployeeDTO>> getAllEmployees() {\\n        return ResponseEntity.ok(employeeService.getAllEmployees());\\n    }\\n\\n    @PutMapping(\"/{id}\")\\n    public ResponseEntity<EmployeeDTO> updateEmployee(@PathVariable Long id, @RequestBody EmployeeDTO employeeDTO) {\\n        employeeDTO.setId(id);\\n        EmployeeDTO updatedEmployee = employeeService.updateEmployee(employeeDTO);\\n        return sendOk(updatedEmployee);\\n    }\\n\\n    @DeleteMapping(\"/{id}\")\\n    public ResponseEntity<Void> deleteEmployee(@PathVariable Long id) {\\n        employeeService.deleteEmployee(id);\\n        return ResponseEntity.noContent().build();\\n    }\\n\\n    private ResponseEntity<EmployeeDTO> sendOk(EmployeeDTO employeeDTO) {\\n        return ResponseEntity.ok(employeeDTO);\\n    }\\n}\\n'"
      ]
     },
     "execution_count": 151,
     "metadata": {},
     "output_type": "execute_result"
    }
   ],
   "source": [
    "with open(\"../data/java/employee-crud/src/main/java/com/java_ast_knowledge_graph_poc/employee_crud/controller/EmployeeController.java\", \"r\", encoding=\"utf-8\") as file:\n",
    "    source_code = file.read()\n",
    "\n",
    "source_code"
   ]
  },
  {
   "cell_type": "code",
   "execution_count": 152,
   "id": "8d3960d7",
   "metadata": {},
   "outputs": [],
   "source": [
    "tree = parser.parse(bytes(source_code, \"utf8\"))\n",
    "root_node = tree.root_node"
   ]
  },
  {
   "cell_type": "code",
   "execution_count": 118,
   "id": "5c03b1c9",
   "metadata": {},
   "outputs": [],
   "source": [
    "graphDBConn = Neo4jConnection(uri=\"neo4j://localhost:7687\", user=\"neo4j\", password=\"password\")"
   ]
  },
  {
   "cell_type": "code",
   "execution_count": 153,
   "id": "e91943e2",
   "metadata": {},
   "outputs": [],
   "source": [
    "children_nodes = root_node.children\n",
    "class_declration_node = children_nodes[-1]\n",
    "package_declaration_node = children_nodes[0]"
   ]
  },
  {
   "cell_type": "markdown",
   "id": "6d566d11",
   "metadata": {},
   "source": [
    "create package node"
   ]
  },
  {
   "cell_type": "code",
   "execution_count": 212,
   "id": "72a96388",
   "metadata": {},
   "outputs": [
    {
     "name": "stdout",
     "output_type": "stream",
     "text": [
      "name: com.java_ast_knowledge_graph_poc.employee_crud.controller\n",
      "content: package com.java_ast_knowledge_graph_poc.employee_crud.controller;\n"
     ]
    },
    {
     "data": {
      "text/plain": [
       "EagerResult(records=[<Record p=<Node element_id='4:006ce47f-db97-446a-8d48-00e2d825b218:0' labels=frozenset({'Package'}) properties={'name': 'com.java_ast_knowledge_graph_poc.employee_crud.controller', 'content': 'package com.java_ast_knowledge_graph_poc.employee_crud.controller;'}>>], summary=<neo4j._work.summary.ResultSummary object at 0x1073c7930>, keys=['p'])"
      ]
     },
     "execution_count": 212,
     "metadata": {},
     "output_type": "execute_result"
    }
   ],
   "source": [
    "print(f\"name: {package_declaration_node.children[1].text.decode('utf-8')}\")\n",
    "print(f\"content: {package_declaration_node.text.decode('utf-8')}\")\n",
    "\n",
    "package_node = graphDBConn.execute_query(\n",
    "    \"MERGE (p:Package {name: $name, content: $content}) RETURN p\",\n",
    "    name=package_declaration_node.children[1].text.decode('utf-8'),\n",
    "    content=package_declaration_node.text.decode('utf-8')\n",
    ")\n",
    "\n",
    "package_node"
   ]
  },
  {
   "cell_type": "code",
   "execution_count": 121,
   "id": "d9a9a221",
   "metadata": {},
   "outputs": [
    {
     "data": {
      "text/plain": [
       "<Node element_id='4:006ce47f-db97-446a-8d48-00e2d825b218:0' labels=frozenset({'Package'}) properties={'name': 'com.java_ast_knowledge_graph_poc.employee_crud.controller', 'content': 'package com.java_ast_knowledge_graph_poc.employee_crud.controller;'}>"
      ]
     },
     "execution_count": 121,
     "metadata": {},
     "output_type": "execute_result"
    }
   ],
   "source": [
    "package_node.records[0].get(\"p\")"
   ]
  },
  {
   "cell_type": "markdown",
   "id": "4d39ff36",
   "metadata": {},
   "source": [
    "create class node"
   ]
  },
  {
   "cell_type": "code",
   "execution_count": 213,
   "id": "d159db77",
   "metadata": {},
   "outputs": [
    {
     "data": {
      "text/plain": [
       "<Node element_id='4:006ce47f-db97-446a-8d48-00e2d825b218:1' labels=frozenset({'Class'}) properties={'name': 'EmployeeController', 'content': '@RestController\\n@RequestMapping(\"/api/employees\")\\npublic class EmployeeController', 'rest_path': '/api/employees'}>"
      ]
     },
     "execution_count": 213,
     "metadata": {},
     "output_type": "execute_result"
    }
   ],
   "source": [
    "rest_path = class_declration_node.children[0].children[1].children[-1].children[1].children[1].text.decode('utf-8')\n",
    "class_name =class_declration_node.children[-2].text.decode('utf-8')\n",
    "content = \" \".join(list(map(lambda x: x.text.decode('utf-8'), class_declration_node.children[:-1])))\n",
    "# Get the package node ID from the previous query\n",
    "package_id = package_node.records[0].get(\"p\").element_id\n",
    "\n",
    "# Create class and relationship in one query\n",
    "class_node = graphDBConn.execute_query(\n",
    "    \"\"\"\n",
    "    MATCH (pkg:Package) WHERE elementId(pkg) = $package_id\n",
    "    MERGE (c:Class {name: $name, rest_path: $rest_path, content: $content})\n",
    "    MERGE (c)-[:BELONGS_TO]->(pkg)\n",
    "    RETURN c\n",
    "    \"\"\",\n",
    "    package_id=package_id,\n",
    "    name=class_name,\n",
    "    rest_path=rest_path,\n",
    "    content=content\n",
    ")\n",
    "\n",
    "class_node.records[0].get(\"c\")"
   ]
  },
  {
   "cell_type": "markdown",
   "id": "5b09e2d2",
   "metadata": {},
   "source": [
    "###process import declarations"
   ]
  },
  {
   "cell_type": "code",
   "execution_count": 214,
   "id": "6b40f314",
   "metadata": {},
   "outputs": [],
   "source": [
    "import_declaration_nodes = children_nodes[1:-1]"
   ]
  },
  {
   "cell_type": "code",
   "execution_count": 215,
   "id": "912d9369",
   "metadata": {},
   "outputs": [],
   "source": [
    "import_nodes = []"
   ]
  },
  {
   "cell_type": "code",
   "execution_count": 216,
   "id": "bfc3e4e8",
   "metadata": {},
   "outputs": [],
   "source": [
    "for import_declaration_node in import_declaration_nodes:\n",
    "    if next((node for node in import_declaration_node.children if node.type == \"asterisk\"), None):\n",
    "        import_class_name = \"*\"\n",
    "        import_package_name = import_declaration_node.children[1].text.decode('utf-8')\n",
    "    else:\n",
    "        import_class_name = import_declaration_node.children[1].children[-1].text.decode('utf-8')\n",
    "        import_package_name = import_declaration_node.children[1].children[0].text.decode('utf-8')\n",
    "    import_statement = import_declaration_node.text.decode('utf-8')\n",
    "    import_node = graphDBConn.driver.execute_query(\n",
    "        \"\"\"\n",
    "        MATCH (c1:Class {name: $class_name})\n",
    "        MERGE (pkg:Package {name: $import_package_name})\n",
    "        MERGE (c:Class {name: $import_class_name})\n",
    "        MERGE (c)-[:BELONGS_TO]->(pkg)\n",
    "        MERGE (c1)-[:IMPORTS {content: $import_statement}]->(c)\n",
    "        RETURN c\n",
    "        \"\"\",\n",
    "        import_package_name=import_package_name,\n",
    "        import_class_name=import_class_name,\n",
    "        class_name=class_name,\n",
    "        import_statement=import_statement\n",
    "    )\n",
    "    import_nodes.append(import_node.records[0])\n"
   ]
  },
  {
   "cell_type": "markdown",
   "id": "e66dfa90",
   "metadata": {},
   "source": [
    "process class body"
   ]
  },
  {
   "cell_type": "code",
   "execution_count": 217,
   "id": "4dbb3fa2",
   "metadata": {},
   "outputs": [],
   "source": [
    "class_body_nodes = class_declration_node.children[-1].children[1:-1]"
   ]
  },
  {
   "cell_type": "markdown",
   "id": "55f99c5a",
   "metadata": {},
   "source": [
    "process fields"
   ]
  },
  {
   "cell_type": "code",
   "execution_count": 218,
   "id": "7683d2c9",
   "metadata": {},
   "outputs": [
    {
     "data": {
      "text/plain": [
       "[<Node type=field_declaration, start_point=(23, 4), end_point=(23, 50)>,\n",
       " <Node type=field_declaration, start_point=(24, 4), end_point=(24, 26)>]"
      ]
     },
     "execution_count": 218,
     "metadata": {},
     "output_type": "execute_result"
    }
   ],
   "source": [
    "field_declaration_nodes = [node for node in class_body_nodes if node.type == 'field_declaration']\n",
    "field_declaration_nodes"
   ]
  },
  {
   "cell_type": "code",
   "execution_count": 219,
   "id": "32cf99ef",
   "metadata": {},
   "outputs": [
    {
     "data": {
      "text/plain": [
       "[<Record f=<Node element_id='4:006ce47f-db97-446a-8d48-00e2d825b218:22' labels=frozenset({'Field'}) properties={'name': 'employeeService', 'content': 'private final EmployeeService employeeService;'}>>,\n",
       " <Record f=<Node element_id='4:006ce47f-db97-446a-8d48-00e2d825b218:24' labels=frozenset({'Field'}) properties={'name': 'object', 'content': 'private Object object;'}>>]"
      ]
     },
     "execution_count": 219,
     "metadata": {},
     "output_type": "execute_result"
    }
   ],
   "source": [
    "field_nodes = []\n",
    "for node in field_declaration_nodes:\n",
    "    field_type = node.children[1].text.decode('utf-8')\n",
    "    field_name = node.children[2].children[0].text.decode('utf-8')\n",
    "    field_content = node.text.decode('utf-8')\n",
    "    import_node = graphDBConn.execute_query(\n",
    "        \"\"\"\n",
    "        MATCH (c:Class{name: $field_type})<-[:IMPORTS]-(:Class{name: $class_name}) RETURN c\n",
    "        \"\"\",\n",
    "        field_type=field_type,\n",
    "        class_name=class_name\n",
    "    )\n",
    "    if len(import_node.records)>0:\n",
    "        class_node_id = class_node.records[0].get(\"c\").element_id\n",
    "        type_class_id = import_node.records[0].get(\"c\").element_id\n",
    "        field_node = graphDBConn.execute_query(\n",
    "            \"\"\"\n",
    "            MATCH(parentClass:Class) WHERE elementId(parentClass) = $class_node_id\n",
    "            MATCH(typeClass:Class) WHERE elementId(typeClass) = $type_class_id\n",
    "            MERGE(f:Field {name: $field_name, content: $field_content})\n",
    "            MERGE(f)-[:MEMBER_OF]->(parentClass)\n",
    "            MERGE(f)-[:TYPE]->(typeClass)\n",
    "            RETURN f\n",
    "            \"\"\",\n",
    "            class_node_id=class_node_id,\n",
    "            type_class_id=type_class_id,\n",
    "            field_name=field_name,\n",
    "            field_content=field_content\n",
    "        )\n",
    "        field_nodes.append(field_node.records[0])\n",
    "    elif any(\n",
    "    node.get(\"c\").get(\"name\") == \"*\" for node in import_nodes if node.get(\"c\") is not None\n",
    "    ):\n",
    "        class_node_id = class_node.records[0].get(\"c\").element_id\n",
    "        import_node = graphDBConn.execute_query(\n",
    "            \"\"\"\n",
    "            MATCH (wildcard:Class{name:\"*\"})-[:BELONGS_TO]->(p:Package)\n",
    "            MATCH (parentClass:Class) WHERE elementId(parentClass) = $class_node_id\n",
    "            MATCH (parentClass)-[:IMPORTS]->(wildcard)\n",
    "            MATCH (type:Class{name:$field_type})-[:BELONGS_TO]->(p)\n",
    "            RETURN type\n",
    "            \"\"\",\n",
    "            field_type=field_type,\n",
    "            class_node_id=class_node_id\n",
    "        )\n",
    "        if len(import_node.records)>0:\n",
    "            type_class_id = import_node.records[0].get(\"c\").element_id\n",
    "            field_node = graphDBConn.execute_query(\n",
    "                \"\"\"\n",
    "                MATCH(parentClass:Class) WHERE elementId(parentClass) = $class_node_id\n",
    "                MATCH(typeClass:Class) WHERE elementId(typeClass) = $type_class_id\n",
    "                MERGE(f:Field {name: $field_name, content: $field_content})\n",
    "                MERGE(f)-[:MEMBER_OF]->(parentClass)\n",
    "                MERGE(f)-[:TYPE]->(typeClass)\n",
    "                RETURN f\n",
    "                \"\"\",\n",
    "                class_node_id=class_node_id,\n",
    "                type_class_id=type_class_id,\n",
    "                field_name=field_name,\n",
    "                field_content=field_content\n",
    "            )\n",
    "            field_nodes.append(field_node.records[0])\n",
    "        else:\n",
    "            class_node_id = class_node.records[0].get(\"c\").element_id\n",
    "            field_node = graphDBConn.execute_query(\n",
    "                \"\"\"\n",
    "                MATCH(parentClass:Class) WHERE elementId(parentClass) = $class_node_id\n",
    "                MERGE(typeClass:Class{name: $type_class_name})\n",
    "                MERGE(f:Field {name: $field_name, content: $field_content})\n",
    "                MERGE(f)-[:MEMBER_OF]->(parentClass)\n",
    "                MERGE(f)-[:TYPE]->(typeClass)\n",
    "                RETURN f\n",
    "                \"\"\",\n",
    "                class_node_id=class_node_id,\n",
    "                type_class_name=field_type,\n",
    "                field_name=field_name,\n",
    "                field_content=field_content\n",
    "            )\n",
    "            field_nodes.append(field_node.records[0])\n",
    "    else:\n",
    "        class_node_id = class_node.records[0].get(\"c\").element_id\n",
    "        field_node = graphDBConn.execute_query(\n",
    "            \"\"\"\n",
    "            MATCH(parentClass:Class) WHERE elementId(parentClass) = $class_node_id\n",
    "            MERGE(typeClass:Class{name: $type_class_name})\n",
    "            MERGE(f:Field {name: $field_name, content: $field_content})\n",
    "            MERGE(f)-[:MEMBER_OF]->(parentClass)\n",
    "            MERGE(f)-[:TYPE]->(typeClass)\n",
    "            RETURN f\n",
    "            \"\"\",\n",
    "            class_node_id=class_node_id,\n",
    "            type_class_name=field_type,\n",
    "            field_name=field_name,\n",
    "            field_content=field_content\n",
    "        )\n",
    "        field_nodes.append(field_node.records[0])\n",
    "field_nodes"
   ]
  },
  {
   "cell_type": "code",
   "execution_count": 220,
   "id": "3c441447",
   "metadata": {},
   "outputs": [
    {
     "data": {
      "text/plain": [
       "'4:006ce47f-db97-446a-8d48-00e2d825b218:1'"
      ]
     },
     "execution_count": 220,
     "metadata": {},
     "output_type": "execute_result"
    }
   ],
   "source": [
    "class_node_id = class_node.records[0].get(\"c\").element_id\n",
    "class_node_id"
   ]
  },
  {
   "cell_type": "markdown",
   "id": "b5faedc4",
   "metadata": {},
   "source": [
    "process methods"
   ]
  },
  {
   "cell_type": "code",
   "execution_count": 221,
   "id": "a19b7f08",
   "metadata": {},
   "outputs": [
    {
     "data": {
      "text/plain": [
       "[<Node type=method_declaration, start_point=(31, 4), end_point=(35, 5)>,\n",
       " <Node type=method_declaration, start_point=(37, 4), end_point=(41, 5)>,\n",
       " <Node type=method_declaration, start_point=(43, 4), end_point=(46, 5)>,\n",
       " <Node type=method_declaration, start_point=(48, 4), end_point=(53, 5)>,\n",
       " <Node type=method_declaration, start_point=(55, 4), end_point=(59, 5)>,\n",
       " <Node type=method_declaration, start_point=(61, 4), end_point=(63, 5)>]"
      ]
     },
     "execution_count": 221,
     "metadata": {},
     "output_type": "execute_result"
    }
   ],
   "source": [
    "method_declaration_nodes =  [node for node in class_body_nodes if node.type == 'method_declaration']\n",
    "method_declaration_nodes"
   ]
  },
  {
   "cell_type": "code",
   "execution_count": 230,
   "id": "007997da",
   "metadata": {},
   "outputs": [
    {
     "name": "stdout",
     "output_type": "stream",
     "text": [
      "Node type: block\n",
      "Node type: {\n",
      "Node type: local_variable_declaration\n",
      "Node type: type_identifier\n",
      "Node type: variable_declarator\n",
      "Node type: identifier\n",
      "Node type: =\n",
      "Node type: method_invocation\n",
      "Method name: b'employeeService.saveEmployee(employeeDTO)'\n",
      "processing external method\n",
      "Node type: identifier\n",
      "Node type: .\n",
      "Node type: identifier\n",
      "Node type: argument_list\n",
      "Node type: (\n",
      "Node type: identifier\n",
      "Node type: )\n",
      "Node type: ;\n",
      "Node type: return_statement\n",
      "Node type: return\n",
      "Node type: object_creation_expression\n",
      "Node type: new\n",
      "Node type: generic_type\n",
      "Node type: type_identifier\n",
      "Node type: type_arguments\n",
      "Node type: <\n",
      "Node type: >\n",
      "Node type: argument_list\n",
      "Node type: (\n",
      "Node type: identifier\n",
      "Node type: ,\n",
      "Node type: field_access\n",
      "Node type: identifier\n",
      "Node type: .\n",
      "Node type: identifier\n",
      "Node type: )\n",
      "Node type: ;\n",
      "Node type: }\n",
      "Node type: block\n",
      "Node type: {\n",
      "Node type: local_variable_declaration\n",
      "Node type: type_identifier\n",
      "Node type: variable_declarator\n",
      "Node type: identifier\n",
      "Node type: =\n",
      "Node type: method_invocation\n",
      "Method name: b'employeeService.getEmployeeById(id)'\n",
      "processing external method\n",
      "Node type: identifier\n",
      "Node type: .\n",
      "Node type: identifier\n",
      "Node type: argument_list\n",
      "Node type: (\n",
      "Node type: identifier\n",
      "Node type: )\n",
      "Node type: ;\n",
      "Node type: return_statement\n",
      "Node type: return\n",
      "Node type: method_invocation\n",
      "Method name: b'sendOk(employee)'\n",
      "Node type: identifier\n",
      "Node type: argument_list\n",
      "Node type: (\n",
      "Node type: identifier\n",
      "Node type: )\n",
      "Node type: ;\n",
      "Node type: }\n",
      "Node type: block\n",
      "Node type: {\n",
      "Node type: return_statement\n",
      "Node type: return\n",
      "Node type: method_invocation\n",
      "Method name: b'ResponseEntity.ok(employeeService.getAllEmployees())'\n",
      "processing external method\n",
      "path not implemented\n",
      "Node type: identifier\n",
      "Node type: .\n",
      "Node type: identifier\n",
      "Node type: argument_list\n",
      "Node type: (\n",
      "Node type: method_invocation\n",
      "Method name: b'employeeService.getAllEmployees()'\n",
      "processing external method\n",
      "Node type: identifier\n",
      "Node type: .\n",
      "Node type: identifier\n",
      "Node type: argument_list\n",
      "Node type: (\n",
      "Node type: )\n",
      "Node type: )\n",
      "Node type: ;\n",
      "Node type: }\n",
      "Node type: block\n",
      "Node type: {\n",
      "Node type: expression_statement\n",
      "Node type: method_invocation\n",
      "Method name: b'employeeDTO.setId(id)'\n",
      "processing external method\n",
      "path not implemented\n",
      "Node type: identifier\n",
      "Node type: .\n",
      "Node type: identifier\n",
      "Node type: argument_list\n",
      "Node type: (\n",
      "Node type: identifier\n",
      "Node type: )\n",
      "Node type: ;\n",
      "Node type: local_variable_declaration\n",
      "Node type: type_identifier\n",
      "Node type: variable_declarator\n",
      "Node type: identifier\n",
      "Node type: =\n",
      "Node type: method_invocation\n",
      "Method name: b'employeeService.updateEmployee(employeeDTO)'\n",
      "processing external method\n",
      "Node type: identifier\n",
      "Node type: .\n",
      "Node type: identifier\n",
      "Node type: argument_list\n",
      "Node type: (\n",
      "Node type: identifier\n",
      "Node type: )\n",
      "Node type: ;\n",
      "Node type: return_statement\n",
      "Node type: return\n",
      "Node type: method_invocation\n",
      "Method name: b'sendOk(updatedEmployee)'\n",
      "Node type: identifier\n",
      "Node type: argument_list\n",
      "Node type: (\n",
      "Node type: identifier\n",
      "Node type: )\n",
      "Node type: ;\n",
      "Node type: }\n",
      "Node type: block\n",
      "Node type: {\n",
      "Node type: expression_statement\n",
      "Node type: method_invocation\n",
      "Method name: b'employeeService.deleteEmployee(id)'\n",
      "processing external method\n",
      "Node type: identifier\n",
      "Node type: .\n",
      "Node type: identifier\n",
      "Node type: argument_list\n",
      "Node type: (\n",
      "Node type: identifier\n",
      "Node type: )\n",
      "Node type: ;\n",
      "Node type: return_statement\n",
      "Node type: return\n",
      "Node type: method_invocation\n",
      "Method name: b'ResponseEntity.noContent().build()'\n",
      "processing external method\n",
      "path not implemented\n",
      "Node type: method_invocation\n",
      "Method name: b'ResponseEntity.noContent()'\n",
      "processing external method\n",
      "path not implemented\n",
      "Node type: identifier\n",
      "Node type: .\n",
      "Node type: identifier\n",
      "Node type: argument_list\n",
      "Node type: (\n",
      "Node type: )\n",
      "Node type: .\n",
      "Node type: identifier\n",
      "Node type: argument_list\n",
      "Node type: (\n",
      "Node type: )\n",
      "Node type: ;\n",
      "Node type: }\n",
      "Node type: block\n",
      "Node type: {\n",
      "Node type: return_statement\n",
      "Node type: return\n",
      "Node type: method_invocation\n",
      "Method name: b'ResponseEntity.ok(employeeDTO)'\n",
      "processing external method\n",
      "path not implemented\n",
      "Node type: identifier\n",
      "Node type: .\n",
      "Node type: identifier\n",
      "Node type: argument_list\n",
      "Node type: (\n",
      "Node type: identifier\n",
      "Node type: )\n",
      "Node type: ;\n",
      "Node type: }\n"
     ]
    },
    {
     "data": {
      "text/plain": [
       "[<Record m=<Node element_id='4:006ce47f-db97-446a-8d48-00e2d825b218:25' labels=frozenset({'Method'}) properties={'return_type': 'ResponseEntity<EmployeeDTO>', 'name': 'createEmployee', 'content': '@PostMapping\\n    public ResponseEntity<EmployeeDTO> createEmployee(@RequestBody EmployeeDTO employeeDTO) {\\n        EmployeeDTO savedEmployee = employeeService.saveEmployee(employeeDTO);\\n        return new ResponseEntity<>(savedEmployee, HttpStatus.CREATED);\\n    }'}>>,\n",
       " <Record m=<Node element_id='4:006ce47f-db97-446a-8d48-00e2d825b218:26' labels=frozenset({'Method'}) properties={'return_type': 'ResponseEntity<EmployeeDTO>', 'name': 'getEmployeeById', 'content': '@GetMapping(\"/{id}\")\\n    public ResponseEntity<EmployeeDTO> getEmployeeById(@PathVariable Long id) {\\n        EmployeeDTO employee = employeeService.getEmployeeById(id);\\n        return sendOk(employee);\\n    }'}>>,\n",
       " <Record m=<Node element_id='4:006ce47f-db97-446a-8d48-00e2d825b218:27' labels=frozenset({'Method'}) properties={'return_type': 'ResponseEntity<List<EmployeeDTO>>', 'name': 'getAllEmployees', 'content': '@GetMapping\\n    public ResponseEntity<List<EmployeeDTO>> getAllEmployees() {\\n        return ResponseEntity.ok(employeeService.getAllEmployees());\\n    }'}>>,\n",
       " <Record m=<Node element_id='4:006ce47f-db97-446a-8d48-00e2d825b218:28' labels=frozenset({'Method'}) properties={'return_type': 'ResponseEntity<EmployeeDTO>', 'name': 'updateEmployee', 'content': '@PutMapping(\"/{id}\")\\n    public ResponseEntity<EmployeeDTO> updateEmployee(@PathVariable Long id, @RequestBody EmployeeDTO employeeDTO) {\\n        employeeDTO.setId(id);\\n        EmployeeDTO updatedEmployee = employeeService.updateEmployee(employeeDTO);\\n        return sendOk(updatedEmployee);\\n    }'}>>,\n",
       " <Record m=<Node element_id='4:006ce47f-db97-446a-8d48-00e2d825b218:29' labels=frozenset({'Method'}) properties={'return_type': 'ResponseEntity<Void>', 'name': 'deleteEmployee', 'content': '@DeleteMapping(\"/{id}\")\\n    public ResponseEntity<Void> deleteEmployee(@PathVariable Long id) {\\n        employeeService.deleteEmployee(id);\\n        return ResponseEntity.noContent().build();\\n    }'}>>,\n",
       " <Record m=<Node element_id='4:006ce47f-db97-446a-8d48-00e2d825b218:30' labels=frozenset({'Method'}) properties={'return_type': 'ResponseEntity<EmployeeDTO>', 'name': 'sendOk', 'content': 'private ResponseEntity<EmployeeDTO> sendOk(EmployeeDTO employeeDTO) {\\n        return ResponseEntity.ok(employeeDTO);\\n    }'}>>]"
      ]
     },
     "execution_count": 230,
     "metadata": {},
     "output_type": "execute_result"
    }
   ],
   "source": [
    "method_nodes = []\n",
    "for method_declaration_node in method_declaration_nodes:\n",
    "    method_name_node = identifier_node = next(\n",
    "        (child for child in method_declaration_node.children if child.type == \"identifier\"),\n",
    "        None\n",
    "    )\n",
    "    method_parameter_node = next(child for child in method_declaration_node.children if child.type == \"formal_parameters\")\n",
    "    parameter_nodes = [child for child in method_parameter_node.children if child.type == \"formal_parameter\"]\n",
    "    method_return_type_node = next(child for child in method_declaration_node.children if child.type == \"generic_type\" or child.type == \"void_type\" or child.type == \"type_identifier\" or child.type == \"array_type\" or child.type == \"primitive_type\")\n",
    "    method_body = next(child for child in method_declaration_node.children if child.type == \"block\")\n",
    "    existing_method_node = graphDBConn.execute_query(\n",
    "        \"\"\"\n",
    "        MATCH (c:Class) WHERE elementId(c) = $class_node_id\n",
    "        MATCH (c)<-[:MEMBER_OF]-(m:Method{name:$method_name}) RETURN m\n",
    "        \"\"\",\n",
    "        class_node_id=class_node_id,\n",
    "        method_name=method_name_node.text.decode('utf-8')\n",
    "    )\n",
    "    if len(existing_method_node.records) == 0:\n",
    "        method_node = graphDBConn.execute_query(\n",
    "            \"\"\"\n",
    "            MATCH (c:Class) WHERE elementId(c) = $class_node_id\n",
    "            MERGE (m:Method {name: $method_name, return_type: $return_type, content: $content})\n",
    "            MERGE (m)-[:MEMBER_OF]->(c)\n",
    "            RETURN m\n",
    "            \"\"\",\n",
    "            class_node_id=class_node_id,\n",
    "            method_name=method_name_node.text.decode('utf-8'),\n",
    "            return_type=method_return_type_node.text.decode('utf-8'),\n",
    "            content=method_declaration_node.text.decode('utf-8')\n",
    "        )\n",
    "        method_node = method_node.records[0]\n",
    "    else:\n",
    "        method_node = existing_method_node.records[0]\n",
    "        method_node_id = method_node.get(\"m\").element_id\n",
    "        method_node = graphDBConn.execute_query(\n",
    "            \"\"\"\n",
    "            MATCH (m:Method) WHERE elementId(m) = $method_node_id\n",
    "            SET m.content = $content,\n",
    "                m.return_type = $return_type\n",
    "            RETURN m\n",
    "            \"\"\",\n",
    "            method_node_id=method_node_id,\n",
    "            content=method_declaration_node.text.decode('utf-8'),\n",
    "            return_type=method_return_type_node.text.decode('utf-8')\n",
    "        )\n",
    "        method_node = method_node.records[0]\n",
    "    method_nodes.append(method_node)\n",
    "    method_node_id = method_node.get(\"m\").element_id\n",
    "    traverse_method_body(method_body, method_node_id)\n",
    "method_nodes"
   ]
  },
  {
   "cell_type": "code",
   "execution_count": 180,
   "id": "25c5d807",
   "metadata": {},
   "outputs": [
    {
     "data": {
      "text/plain": [
       "[]"
      ]
     },
     "execution_count": 180,
     "metadata": {},
     "output_type": "execute_result"
    }
   ],
   "source": [
    "method_declaration_nodes[1].children[-1].children[1].children[1].children[-1].children[-1].children[1].children"
   ]
  },
  {
   "cell_type": "code",
   "execution_count": 208,
   "id": "e3c45b50",
   "metadata": {},
   "outputs": [],
   "source": [
    "class ASTProcessingError(Exception):\n",
    "    \"\"\"Custom exception for AST processing errors\"\"\"\n",
    "    pass\n",
    "\n",
    "class NodeNotFoundError(ASTProcessingError):\n",
    "    \"\"\"Raised when a required AST node is not found\"\"\"\n",
    "    pass"
   ]
  },
  {
   "cell_type": "code",
   "execution_count": 223,
   "id": "679a3595",
   "metadata": {},
   "outputs": [],
   "source": [
    "def traverse_method_body(node, method_node_id):\n",
    "    if not node:\n",
    "        return\n",
    "    print(\"Node type:\", node.type)\n",
    "    if node.type == \"method_invocation\":\n",
    "        print(\"Method name:\", node.text)\n",
    "        process_method_invocation(node, method_node_id)\n",
    "    for child in node.children:\n",
    "        traverse_method_body(child, method_node_id)"
   ]
  },
  {
   "cell_type": "markdown",
   "id": "1d21f0f4",
   "metadata": {},
   "source": []
  },
  {
   "cell_type": "code",
   "execution_count": 228,
   "id": "b368d758",
   "metadata": {},
   "outputs": [],
   "source": [
    "def process_method_invocation(node, method_node_id):\n",
    "    # consider method chains\n",
    "    if any(child.type == \".\" for child in node.children):\n",
    "        print(\"processing external method\")\n",
    "        first_identifier_node = next(child for child in node.children if child.type == \"identifier\")\n",
    "        field_node = graphDBConn.execute_query(\n",
    "            \"\"\"\n",
    "            MATCH (c:Class) WHERE elementId(c) = $class_node_id\n",
    "            MATCH (c)<-[:MEMBER_OF]-(f:Field{name:$field_name}) RETURN f\n",
    "            \"\"\",\n",
    "            class_node_id=class_node_id,\n",
    "            field_name=first_identifier_node.text.decode('utf-8')\n",
    "        )\n",
    "        if len(field_node.records)>0:\n",
    "            field_node_id = field_node.records[0].get(\"f\").element_id\n",
    "            type_node =graphDBConn.execute_query(\n",
    "                \"\"\"\n",
    "                MATCH (f:Field) WHERE elementId(f) = $field_node_id\n",
    "                MATCH (f) -[:TYPE]-> (c:Class) RETURN c\n",
    "                \"\"\",\n",
    "                field_node_id=field_node_id\n",
    "            )\n",
    "            if len(type_node.records)>0:\n",
    "                type_node_id = type_node.records[0].get(\"c\").element_id\n",
    "                identifier_nodes = [child for child in node.children if child.type == \"identifier\"]\n",
    "                second_identifier_node = identifier_nodes[1] if len(identifier_nodes) > 1 else None\n",
    "                calling_method_node = graphDBConn.execute_query(\n",
    "                    \"\"\"\n",
    "                    MATCH (c:Class) WHERE elementId(c) = $type_node_id\n",
    "                    MATCH (c)<-[:MEMBER_OF]-(m:Method{name:$method_name}) RETURN m\n",
    "                    \"\"\",\n",
    "                    type_node_id=type_node_id,\n",
    "                    method_name=second_identifier_node.text.decode('utf-8')\n",
    "                )\n",
    "                if len(calling_method_node.records)>0:\n",
    "                    calling_method_node_id = calling_method_node.records[0].get(\"m\").element_id\n",
    "                    graphDBConn.execute_query(\"\"\"\n",
    "                        MATCH (m:Method) WHERE elementId(m) = $method_node_id\n",
    "                        MATCH (cm:Method) WHERE elementId(cm) = $calling_method_node_id\n",
    "                        MERGE (m)-[c:CALLS]->(cm) RETURN m,c,cm\n",
    "                        \"\"\",\n",
    "                        method_node_id=method_node_id,\n",
    "                        calling_method_node_id=calling_method_node_id\n",
    "                    )\n",
    "                else:\n",
    "                    graphDBConn.execute_query(\"\"\"\n",
    "                        MATCH (m:Method) WHERE elementId(m) = $method_node_id\n",
    "                        MATCH (t:Class) WHERE elementId(t) = $type_node_id\n",
    "                        CREATE (cm:Method{name:$calling_method_name})\n",
    "                        MERGE (cm) -[:MEMBER_OF]->(t)\n",
    "                        MERGE (m)-[c:CALLS]->(cm) RETURN m,c,cm\n",
    "                        \"\"\",\n",
    "                        method_node_id=method_node_id,\n",
    "                        calling_method_name=second_identifier_node.text.decode('utf-8'),\n",
    "                        type_node_id=type_node_id\n",
    "                    )\n",
    "            else:\n",
    "                raise NodeNotFoundError(\"Field type node not found\")\n",
    "        else:\n",
    "            print(\"path not implemented\")\n",
    "            # Handle other cases\n",
    "        # this\n",
    "        # super\n",
    "        # import\n",
    "        # import with wildcard\n",
    "        # fully qualified name\n",
    "        # nested class\n",
    "    else:\n",
    "        first_identifier_node = next(child for child in node.children if child.type == \"identifier\")\n",
    "        calling_method_node = graphDBConn.execute_query(\n",
    "            \"\"\"\n",
    "            MATCH (c:Class) WHERE elementId(c) = $class_node_id\n",
    "            MATCH (m:Method{name:$method_name}) -[:MEMBER_OF]->(c)\n",
    "            RETURN m\n",
    "            \"\"\",\n",
    "            method_name=first_identifier_node.text.decode('utf-8'),\n",
    "            class_node_id=class_node_id\n",
    "        )\n",
    "        if len(calling_method_node.records)>0:\n",
    "            calling_method_node_id = calling_method_node.records[0].get(\"m\").element_id\n",
    "            graphDBConn.execute_query(\"\"\"\n",
    "                MATCH (m:Method) WHERE elementId(m) = $method_node_id\n",
    "                MATCH (cm:Method) WHERE elementId(cm) = $calling_method_node_id\n",
    "                MERGE (m)-[c:CALLS]->(cm) RETURN m,c,cm\n",
    "                \"\"\",\n",
    "                method_node_id=method_node_id,\n",
    "                calling_method_node_id=calling_method_node_id\n",
    "            )\n",
    "        else:\n",
    "            print(\"processing static import\")\n",
    "        #need to check if it is a static import or not"
   ]
  },
  {
   "cell_type": "code",
   "execution_count": 183,
   "id": "bfde0abe",
   "metadata": {},
   "outputs": [
    {
     "data": {
      "text/plain": [
       "[<Record m=<Node element_id='4:006ce47f-db97-446a-8d48-00e2d825b218:25' labels=frozenset({'Method'}) properties={'return_type': 'ResponseEntity<EmployeeDTO>', 'name': 'createEmployee', 'content': '@PostMapping\\n    public ResponseEntity<EmployeeDTO> createEmployee(@RequestBody EmployeeDTO employeeDTO) {\\n        EmployeeDTO savedEmployee = employeeService.saveEmployee(employeeDTO);\\n        return new ResponseEntity<>(savedEmployee, HttpStatus.CREATED);\\n    }'}>>,\n",
       " <Record m=<Node element_id='4:006ce47f-db97-446a-8d48-00e2d825b218:26' labels=frozenset({'Method'}) properties={'return_type': 'ResponseEntity<EmployeeDTO>', 'name': 'getEmployeeById', 'content': '@GetMapping(\"/{id}\")\\n    public ResponseEntity<EmployeeDTO> getEmployeeById(@PathVariable Long id) {\\n        EmployeeDTO employee = employeeService.getEmployeeById(id);\\n        return sendOk(employee);\\n    }'}>>,\n",
       " <Record m=<Node element_id='4:006ce47f-db97-446a-8d48-00e2d825b218:27' labels=frozenset({'Method'}) properties={'return_type': 'ResponseEntity<List<EmployeeDTO>>', 'name': 'getAllEmployees', 'content': '@GetMapping\\n    public ResponseEntity<List<EmployeeDTO>> getAllEmployees() {\\n        return ResponseEntity.ok(employeeService.getAllEmployees());\\n    }'}>>,\n",
       " <Record m=<Node element_id='4:006ce47f-db97-446a-8d48-00e2d825b218:28' labels=frozenset({'Method'}) properties={'return_type': 'ResponseEntity<EmployeeDTO>', 'name': 'updateEmployee', 'content': '@PutMapping(\"/{id}\")\\n    public ResponseEntity<EmployeeDTO> updateEmployee(@PathVariable Long id, @RequestBody EmployeeDTO employeeDTO) {\\n        employeeDTO.setId(id);\\n        EmployeeDTO updatedEmployee = employeeService.updateEmployee(employeeDTO);\\n        return sendOk(updatedEmployee);\\n    }'}>>,\n",
       " <Record m=<Node element_id='4:006ce47f-db97-446a-8d48-00e2d825b218:29' labels=frozenset({'Method'}) properties={'return_type': 'ResponseEntity<Void>', 'name': 'deleteEmployee', 'content': '@DeleteMapping(\"/{id}\")\\n    public ResponseEntity<Void> deleteEmployee(@PathVariable Long id) {\\n        employeeService.deleteEmployee(id);\\n        return ResponseEntity.noContent().build();\\n    }'}>>,\n",
       " <Record m=<Node element_id='4:006ce47f-db97-446a-8d48-00e2d825b218:30' labels=frozenset({'Method'}) properties={'return_type': 'ResponseEntity<EmployeeDTO>', 'name': 'sendOk', 'content': 'private ResponseEntity<EmployeeDTO> sendOk(EmployeeDTO employeeDTO) {\\n        return ResponseEntity.ok(employeeDTO);\\n    }'}>>]"
      ]
     },
     "execution_count": 183,
     "metadata": {},
     "output_type": "execute_result"
    }
   ],
   "source": [
    "method_nodes"
   ]
  }
 ],
 "metadata": {
  "kernelspec": {
   "display_name": "Python 3",
   "language": "python",
   "name": "python3"
  },
  "language_info": {
   "codemirror_mode": {
    "name": "ipython",
    "version": 3
   },
   "file_extension": ".py",
   "mimetype": "text/x-python",
   "name": "python",
   "nbconvert_exporter": "python",
   "pygments_lexer": "ipython3",
   "version": "3.13.5"
  }
 },
 "nbformat": 4,
 "nbformat_minor": 5
}
